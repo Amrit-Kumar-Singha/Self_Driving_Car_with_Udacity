{
 "cells": [
  {
   "cell_type": "code",
   "execution_count": 1,
   "metadata": {},
   "outputs": [],
   "source": [
    "\n",
    "import numpy as np\n",
    "import pandas as pd\n",
    "import matplotlib.pyplot as plt\n",
    "import os\n",
    "from sklearn.utils import shuffle\n",
    "from sklearn.model_selection import train_test_split\n",
    "import matplotlib.image as mpimg\n",
    "from imgaug import augmenters as iaa\n",
    "import cv2\n",
    "from tensorflow.keras.models import Sequential\n",
    "from tensorflow.keras.layers import Convolution2D,Flatten,Dense\n",
    "from tensorflow.keras.optimizers import Adam\n",
    "from keras.layers import Lambda, Conv2D, MaxPooling2D, Dropout, Dense, Flatten\n",
    "import eventlet\n",
    "from flask import Flask\n",
    "import base64\n",
    "from io import BytesIO\n",
    "from PIL import Image\n",
    "import random"
   ]
  },
  {
   "cell_type": "code",
   "execution_count": 2,
   "metadata": {},
   "outputs": [],
   "source": [
    "def getName(filePath):\n",
    "    return filePath.split('\\\\')[-1]"
   ]
  },
  {
   "cell_type": "code",
   "execution_count": 3,
   "metadata": {},
   "outputs": [
    {
     "name": "stdout",
     "output_type": "stream",
     "text": [
      "center_2024_03_10_16_05_12_225.jpg\n",
      "                               Center  \\\n",
      "0  center_2024_03_10_16_05_12_225.jpg   \n",
      "1  center_2024_03_10_16_05_12_326.jpg   \n",
      "2  center_2024_03_10_16_05_12_430.jpg   \n",
      "3  center_2024_03_10_16_05_12_534.jpg   \n",
      "4  center_2024_03_10_16_05_12_638.jpg   \n",
      "\n",
      "                                                Left  \\\n",
      "0   D:\\All AI-ML Projects\\Udacity self-driving-ca...   \n",
      "1   D:\\All AI-ML Projects\\Udacity self-driving-ca...   \n",
      "2   D:\\All AI-ML Projects\\Udacity self-driving-ca...   \n",
      "3   D:\\All AI-ML Projects\\Udacity self-driving-ca...   \n",
      "4   D:\\All AI-ML Projects\\Udacity self-driving-ca...   \n",
      "\n",
      "                                               Right  Steering  Throttle  \\\n",
      "0   D:\\All AI-ML Projects\\Udacity self-driving-ca...       0.0       0.0   \n",
      "1   D:\\All AI-ML Projects\\Udacity self-driving-ca...       0.0       0.0   \n",
      "2   D:\\All AI-ML Projects\\Udacity self-driving-ca...       0.0       0.0   \n",
      "3   D:\\All AI-ML Projects\\Udacity self-driving-ca...       0.0       0.0   \n",
      "4   D:\\All AI-ML Projects\\Udacity self-driving-ca...       0.0       0.0   \n",
      "\n",
      "   Brake     Speed  \n",
      "0    0.0  0.000078  \n",
      "1    0.0  0.000083  \n",
      "2    0.0  0.000078  \n",
      "3    0.0  0.000079  \n",
      "4    0.0  0.000078  \n",
      "Total Images Imported 13691\n"
     ]
    }
   ],
   "source": [
    "def importDataInfo(path):\n",
    "    columns = ['Center', 'Left', 'Right', 'Steering', 'Throttle', 'Brake', 'Speed']\n",
    "    data = pd.read_csv(os.path.join(path, 'driving_log.csv'), names=columns)\n",
    "\n",
    "    # Check if 'Center' column exists before accessing it\n",
    "    if 'Center' in data.columns:\n",
    "        # REMOVE FILE PATH AND GET ONLY FILE NAME\n",
    "        print(getName(data['Center'][0]))  # Use 'Center' instead of 'center'\n",
    "        data['Center'] = data['Center'].apply(getName)\n",
    "        print(data.head())\n",
    "        print('Total Images Imported', data.shape[0])\n",
    "    else:\n",
    "        print(\"'Center' column not found in the DataFrame.\")\n",
    "\n",
    "    return data\n",
    "path = 'My_Data'\n",
    "data = importDataInfo(path)"
   ]
  },
  {
   "cell_type": "code",
   "execution_count": 4,
   "metadata": {},
   "outputs": [
    {
     "data": {
      "image/png": "[encoded data removed]",
      "text/plain": [
       "<Figure size 640x480 with 1 Axes>"
      ]
     },
     "metadata": {},
     "output_type": "display_data"
    },
    {
     "name": "stdout",
     "output_type": "stream",
     "text": [
      "Removed Images: 9859\n",
      "Remaining Images: 3832\n"
     ]
    },
    {
     "data": {
      "image/png": "[encoded data removed]",
      "text/plain": [
       "<Figure size 640x480 with 1 Axes>"
      ]
     },
     "metadata": {},
     "output_type": "display_data"
    }
   ],
   "source": [
    "def balanceData(data, display=True):\n",
    "    nBin = 31\n",
    "    samplesPerBin = 500\n",
    "    hist, bins = np.histogram(data['Steering'], nBin)\n",
    "    \n",
    "    if display:\n",
    "        center = (bins[:-1] + bins[1:]) * 0.5\n",
    "        plt.bar(center, hist, width=0.06)\n",
    "        plt.plot((np.min(data['Steering']), np.max(data['Steering'])), (samplesPerBin, samplesPerBin))\n",
    "        plt.show()\n",
    "\n",
    "    removeindexList = []\n",
    "    for j in range(nBin):\n",
    "        binDataList = []\n",
    "        for index, row in data.iterrows():\n",
    "            if row['Steering'] >= bins[j] and row['Steering'] <= bins[j + 1]:\n",
    "                binDataList.append(index)\n",
    "\n",
    "        binDataList = shuffle(binDataList)\n",
    "        binDataList = binDataList[samplesPerBin:]\n",
    "        removeindexList.extend(binDataList)\n",
    "\n",
    "    print('Removed Images:', len(removeindexList))\n",
    "    data.drop(data.index[removeindexList], inplace=True)\n",
    "    print('Remaining Images:', len(data))\n",
    "    \n",
    "    if display:\n",
    "        hist, _ = np.histogram(data['Steering'], nBin)\n",
    "        plt.bar(center, hist, width=0.06)\n",
    "        plt.plot((np.min(data['Steering']), np.max(data['Steering'])), (samplesPerBin, samplesPerBin))\n",
    "        plt.show()\n",
    "\n",
    "# Assuming 'data' is already defined\n",
    "balanceData(data)\n"
   ]
  },
  {
   "cell_type": "markdown",
   "metadata": {},
   "source": [
    "Prepare for processing"
   ]
  },
  {
   "cell_type": "code",
   "execution_count": 5,
   "metadata": {},
   "outputs": [],
   "source": [
    "def loadData(path, data):\n",
    "  imagesPath = []\n",
    "  steering = []\n",
    "  for i in range(len(data)):\n",
    "    indexed_data = data.iloc[i]\n",
    "    imagesPath.append(f'{path}/IMG/{indexed_data[0]}')\n",
    "    steering.append(float(indexed_data[3]))\n",
    "  imagesPath = np.asarray(imagesPath)\n",
    "  steering = np.asarray(steering)\n",
    "  return imagesPath, steering\n",
    "\n",
    "imagesPath, steerings = loadData(path,data)"
   ]
  },
  {
   "cell_type": "markdown",
   "metadata": {},
   "source": [
    "Split for Training and Validation"
   ]
  },
  {
   "cell_type": "code",
   "execution_count": 6,
   "metadata": {},
   "outputs": [
    {
     "name": "stdout",
     "output_type": "stream",
     "text": [
      "Total Training Images:  3065\n",
      "Total Validation Images:  767\n"
     ]
    }
   ],
   "source": [
    "xTrain, xVal, yTrain, yVal = train_test_split(imagesPath, steerings, test_size=0.2,random_state=10)\n",
    "print('Total Training Images: ',len(xTrain))\n",
    "print('Total Validation Images: ',len(xVal))"
   ]
  },
  {
   "cell_type": "markdown",
   "metadata": {},
   "source": [
    "Augmentation"
   ]
  },
  {
   "cell_type": "code",
   "execution_count": 7,
   "metadata": {},
   "outputs": [],
   "source": [
    "def augmentImage(imgPath,steering):\n",
    "    img =  mpimg.imread(imgPath)\n",
    "    if np.random.rand() < 0.5:\n",
    "        pan = iaa.Affine(translate_percent={\"x\": (-0.1, 0.1), \"y\": (-0.1, 0.1)})\n",
    "        img = pan.augment_image(img)\n",
    "    if np.random.rand() < 0.5:\n",
    "        zoom = iaa.Affine(scale=(1, 1.2))\n",
    "        img = zoom.augment_image(img)\n",
    "    if np.random.rand() < 0.5:\n",
    "        brightness = iaa.Multiply((0.2, 1.2))\n",
    "        img = brightness.augment_image(img)\n",
    "    if np.random.rand() < 0.5:\n",
    "        img = cv2.flip(img, 1)\n",
    "        steering = -steering\n",
    "    return(img, steering)"
   ]
  },
  {
   "cell_type": "markdown",
   "metadata": {},
   "source": [
    "Preprocessing"
   ]
  },
  {
   "cell_type": "code",
   "execution_count": 8,
   "metadata": {},
   "outputs": [],
   "source": [
    "def preProcess(img):\n",
    "    img = img[60:135,:,:]\n",
    "    img = cv2.cvtColor(img, cv2.COLOR_RGB2YUV)\n",
    "    img = cv2.GaussianBlur(img,  (3, 3), 0)\n",
    "    img = cv2.resize(img, (200, 66))\n",
    "    img = img/255\n",
    "    return img"
   ]
  },
  {
   "cell_type": "markdown",
   "metadata": {},
   "source": [
    "Batch Generator"
   ]
  },
  {
   "cell_type": "code",
   "execution_count": 9,
   "metadata": {},
   "outputs": [],
   "source": [
    "def batchGen(imagesPath, steeringList, batchSize, trainFlag):\n",
    "    while True:\n",
    "        imgBatch = []\n",
    "        steeringBatch = []\n",
    "        for i in range(batchSize):\n",
    "            index = random.randint(0, len(imagesPath) - 1)\n",
    "            if trainFlag:\n",
    "                img, steering = augmentImage(imagesPath[index], steeringList[index])\n",
    "            else:\n",
    "                img = mpimg.imread(imagesPath[index])\n",
    "                steering = steeringList[index]\n",
    "            img = preProcess(img)\n",
    "            imgBatch.append(img)\n",
    "            steeringBatch.append(steering)\n",
    "        yield (np.asarray(imgBatch),np.asarray(steeringBatch))"
   ]
  },
  {
   "cell_type": "markdown",
   "metadata": {},
   "source": [
    "Creating the Model"
   ]
  },
  {
   "cell_type": "code",
   "execution_count": 10,
   "metadata": {},
   "outputs": [
    {
     "name": "stdout",
     "output_type": "stream",
     "text": [
      "Model: \"sequential\"\n",
      "_________________________________________________________________\n",
      " Layer (type)                Output Shape              Param #   \n",
      "=================================================================\n",
      " conv2d (Conv2D)             (None, 31, 98, 32)        2432      \n",
      "                                                                 \n",
      " conv2d_1 (Conv2D)           (None, 14, 47, 64)        51264     \n",
      "                                                                 \n",
      " conv2d_2 (Conv2D)           (None, 5, 22, 64)         102464    \n",
      "                                                                 \n",
      " conv2d_3 (Conv2D)           (None, 3, 20, 128)        73856     \n",
      "                                                                 \n",
      " conv2d_4 (Conv2D)           (None, 1, 18, 128)        147584    \n",
      "                                                                 \n",
      " flatten (Flatten)           (None, 2304)              0         \n",
      "                                                                 \n",
      " dense (Dense)               (None, 100)               230500    \n",
      "                                                                 \n",
      " dense_1 (Dense)             (None, 50)                5050      \n",
      "                                                                 \n",
      " dense_2 (Dense)             (None, 10)                510       \n",
      "                                                                 \n",
      " dense_3 (Dense)             (None, 1)                 11        \n",
      "                                                                 \n",
      "=================================================================\n",
      "Total params: 613,671\n",
      "Trainable params: 613,671\n",
      "Non-trainable params: 0\n",
      "_________________________________________________________________\n"
     ]
    },
    {
     "name": "stderr",
     "output_type": "stream",
     "text": [
      "c:\\Users\\AMRIT\\AppData\\Local\\Programs\\Python\\Python310\\lib\\site-packages\\keras\\optimizers\\optimizer_v2\\adam.py:114: UserWarning: The `lr` argument is deprecated, use `learning_rate` instead.\n",
      "  super().__init__(name, **kwargs)\n"
     ]
    }
   ],
   "source": [
    "os.environ['TF_CPP_MIN_LOG_LEVEL'] = '3'\n",
    "def createModel():\n",
    "  model = Sequential()\n",
    " \n",
    "  model.add(Conv2D(24, (5, 5), (2, 2), input_shape=(66, 200, 3), activation='elu'))\n",
    "  model.add(Conv2D(36, (5, 5), (2, 2), activation='elu'))\n",
    "  model.add(Conv2D(64, (5, 5), (2, 2), activation='elu'))\n",
    "  model.add(Conv2D(64, (3, 3), activation='elu'))\n",
    "  model.add(Conv2D(128, (3, 3), activation='elu'))\n",
    " \n",
    "  model.add(Flatten())\n",
    "  model.add(Dense(100, activation = 'elu'))\n",
    "  model.add(Dense(50, activation = 'elu'))\n",
    "  model.add(Dense(10, activation = 'elu'))\n",
    "  model.add(Dense(1))\n",
    " \n",
    "  model.compile(Adam(lr=0.0001),loss='mse')\n",
    "  return model\n",
    "model = createModel()\n",
    "model.summary()"
   ]
  },
  {
   "cell_type": "markdown",
   "metadata": {},
   "source": [
    "Training"
   ]
  },
  {
   "cell_type": "code",
   "execution_count": 12,
   "metadata": {},
   "outputs": [
    {
     "name": "stdout",
     "output_type": "stream",
     "text": [
      "Epoch 1/15\n",
      "300/300 [==============================] - 97s 326ms/step - loss: 0.0360 - val_loss: 0.0271\n",
      "Epoch 2/15\n",
      "300/300 [==============================] - 93s 312ms/step - loss: 0.0320 - val_loss: 0.0249\n",
      "Epoch 3/15\n",
      "300/300 [==============================] - 94s 315ms/step - loss: 0.0285 - val_loss: 0.0238\n",
      "Epoch 4/15\n",
      "300/300 [==============================] - 94s 315ms/step - loss: 0.0258 - val_loss: 0.0218\n",
      "Epoch 5/15\n",
      "300/300 [==============================] - 94s 315ms/step - loss: 0.0257 - val_loss: 0.0206\n",
      "Epoch 6/15\n",
      "300/300 [==============================] - 94s 314ms/step - loss: 0.0240 - val_loss: 0.0213\n",
      "Epoch 7/15\n",
      "300/300 [==============================] - 95s 319ms/step - loss: 0.0231 - val_loss: 0.0223\n",
      "Epoch 8/15\n",
      "300/300 [==============================] - 94s 313ms/step - loss: 0.0224 - val_loss: 0.0214\n",
      "Epoch 9/15\n",
      "300/300 [==============================] - 94s 313ms/step - loss: 0.0223 - val_loss: 0.0200\n",
      "Epoch 10/15\n",
      "300/300 [==============================] - 94s 315ms/step - loss: 0.0215 - val_loss: 0.0198\n",
      "Epoch 11/15\n",
      "300/300 [==============================] - 94s 314ms/step - loss: 0.0216 - val_loss: 0.0209\n",
      "Epoch 12/15\n",
      "300/300 [==============================] - 94s 313ms/step - loss: 0.0212 - val_loss: 0.0202\n",
      "Epoch 13/15\n",
      "300/300 [==============================] - 94s 314ms/step - loss: 0.0207 - val_loss: 0.0199\n",
      "Epoch 14/15\n",
      "300/300 [==============================] - 94s 315ms/step - loss: 0.0200 - val_loss: 0.0196\n",
      "Epoch 15/15\n",
      "300/300 [==============================] - 95s 316ms/step - loss: 0.0198 - val_loss: 0.0199\n"
     ]
    }
   ],
   "source": [
    "history = model.fit(\n",
    "    batchGen(xTrain, yTrain, 100, 1),\n",
    "    steps_per_epoch=300,\n",
    "    epochs=15,\n",
    "    validation_data=batchGen(xVal, yVal, 100, 0),\n",
    "    validation_steps=200\n",
    ")"
   ]
  },
  {
   "cell_type": "markdown",
   "metadata": {},
   "source": [
    "Saving & Plotting"
   ]
  },
  {
   "cell_type": "code",
   "execution_count": 13,
   "metadata": {},
   "outputs": [
    {
     "name": "stdout",
     "output_type": "stream",
     "text": [
      "Model Saved\n"
     ]
    },
    {
     "data": {
      "image/png": "[encoded data removed]",
      "text/plain": [
       "<Figure size 640x480 with 1 Axes>"
      ]
     },
     "metadata": {},
     "output_type": "display_data"
    }
   ],
   "source": [
    "model.save('model_6.h5')\n",
    "print('Model Saved')\n",
    "plt.plot(history.history['loss'])\n",
    "plt.plot(history.history['val_loss'])\n",
    "plt.legend(['Training', 'Validation'])\n",
    "plt.title('Loss')\n",
    "plt.xlabel('Epoch')\n",
    "plt.show()"
   ]
  },
  {
   "cell_type": "code",
   "execution_count": null,
   "metadata": {},
   "outputs": [],
   "source": []
  }
 ],
 "metadata": {
  "kernelspec": {
   "display_name": "Python 3",
   "language": "python",
   "name": "python3"
  },
  "language_info": {
   "codemirror_mode": {
    "name": "ipython",
    "version": 3
   },
   "file_extension": ".py",
   "mimetype": "text/x-python",
   "name": "python",
   "nbconvert_exporter": "python",
   "pygments_lexer": "ipython3",
   "version": "3.10.1"
  },
  "orig_nbformat": 4
 },
 "nbformat": 4,
 "nbformat_minor": 2
}
